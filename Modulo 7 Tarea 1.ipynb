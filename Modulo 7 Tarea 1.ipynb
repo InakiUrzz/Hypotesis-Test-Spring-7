{
 "cells": [
  {
   "cell_type": "markdown",
   "metadata": {},
   "source": [
    "### Test Hypotesis Method: Sprint 7\n",
    "___"
   ]
  },
  {
   "cell_type": "markdown",
   "metadata": {},
   "source": [
    "### Exercise 1: Get a set of sports theme data that you like and select an attribute from the set of data. Calculate the p-value and say if the null hypothesis rebuts the agafant an alpha of 5%.\n",
    "\n",
    "### Ejercicio 1: Escoge un conjunto de datos de tema deportivo que te guste y selecciona un atributo del conjunto de datos. Calcula el p-valor y di si rechaza la hipótesis nula cogiendo un alfa de 5%."
   ]
  },
  {
   "cell_type": "code",
   "execution_count": 239,
   "metadata": {},
   "outputs": [],
   "source": [
    "#Importing the librarys to work:\n",
    "import pandas as pd\n",
    "import numpy as np\n",
    "import matplotlib.pyplot as plt\n",
    "import re\n",
    "import seaborn as sns"
   ]
  },
  {
   "cell_type": "code",
   "execution_count": 240,
   "metadata": {},
   "outputs": [
    {
     "data": {
      "text/html": [
       "<div>\n",
       "<style scoped>\n",
       "    .dataframe tbody tr th:only-of-type {\n",
       "        vertical-align: middle;\n",
       "    }\n",
       "\n",
       "    .dataframe tbody tr th {\n",
       "        vertical-align: top;\n",
       "    }\n",
       "\n",
       "    .dataframe thead th {\n",
       "        text-align: right;\n",
       "    }\n",
       "</style>\n",
       "<table border=\"1\" class=\"dataframe\">\n",
       "  <thead>\n",
       "    <tr style=\"text-align: right;\">\n",
       "      <th></th>\n",
       "      <th>EndYear</th>\n",
       "      <th>Rk</th>\n",
       "      <th>G</th>\n",
       "      <th>Date</th>\n",
       "      <th>Years</th>\n",
       "      <th>Days</th>\n",
       "      <th>Age</th>\n",
       "      <th>Tm</th>\n",
       "      <th>Home</th>\n",
       "      <th>Opp</th>\n",
       "      <th>...</th>\n",
       "      <th>ORB</th>\n",
       "      <th>DRB</th>\n",
       "      <th>TRB</th>\n",
       "      <th>AST</th>\n",
       "      <th>STL</th>\n",
       "      <th>BLK</th>\n",
       "      <th>TOV</th>\n",
       "      <th>PF</th>\n",
       "      <th>PTS</th>\n",
       "      <th>GmSc</th>\n",
       "    </tr>\n",
       "  </thead>\n",
       "  <tbody>\n",
       "    <tr>\n",
       "      <th>0</th>\n",
       "      <td>1985</td>\n",
       "      <td>1</td>\n",
       "      <td>1</td>\n",
       "      <td>10/26/1984</td>\n",
       "      <td>21</td>\n",
       "      <td>252</td>\n",
       "      <td>21.689938</td>\n",
       "      <td>CHI</td>\n",
       "      <td>1</td>\n",
       "      <td>WSB</td>\n",
       "      <td>...</td>\n",
       "      <td>1</td>\n",
       "      <td>5</td>\n",
       "      <td>6</td>\n",
       "      <td>7</td>\n",
       "      <td>2</td>\n",
       "      <td>4</td>\n",
       "      <td>5</td>\n",
       "      <td>2</td>\n",
       "      <td>16</td>\n",
       "      <td>12.5</td>\n",
       "    </tr>\n",
       "    <tr>\n",
       "      <th>1</th>\n",
       "      <td>1985</td>\n",
       "      <td>2</td>\n",
       "      <td>2</td>\n",
       "      <td>10/27/1984</td>\n",
       "      <td>21</td>\n",
       "      <td>253</td>\n",
       "      <td>21.692676</td>\n",
       "      <td>CHI</td>\n",
       "      <td>0</td>\n",
       "      <td>MIL</td>\n",
       "      <td>...</td>\n",
       "      <td>3</td>\n",
       "      <td>2</td>\n",
       "      <td>5</td>\n",
       "      <td>5</td>\n",
       "      <td>2</td>\n",
       "      <td>1</td>\n",
       "      <td>3</td>\n",
       "      <td>4</td>\n",
       "      <td>21</td>\n",
       "      <td>19.4</td>\n",
       "    </tr>\n",
       "    <tr>\n",
       "      <th>2</th>\n",
       "      <td>1985</td>\n",
       "      <td>3</td>\n",
       "      <td>3</td>\n",
       "      <td>10/29/1984</td>\n",
       "      <td>21</td>\n",
       "      <td>255</td>\n",
       "      <td>21.698152</td>\n",
       "      <td>CHI</td>\n",
       "      <td>1</td>\n",
       "      <td>MIL</td>\n",
       "      <td>...</td>\n",
       "      <td>2</td>\n",
       "      <td>2</td>\n",
       "      <td>4</td>\n",
       "      <td>5</td>\n",
       "      <td>6</td>\n",
       "      <td>2</td>\n",
       "      <td>3</td>\n",
       "      <td>4</td>\n",
       "      <td>37</td>\n",
       "      <td>32.9</td>\n",
       "    </tr>\n",
       "    <tr>\n",
       "      <th>3</th>\n",
       "      <td>1985</td>\n",
       "      <td>4</td>\n",
       "      <td>4</td>\n",
       "      <td>10/30/1984</td>\n",
       "      <td>21</td>\n",
       "      <td>256</td>\n",
       "      <td>21.700890</td>\n",
       "      <td>CHI</td>\n",
       "      <td>0</td>\n",
       "      <td>KCK</td>\n",
       "      <td>...</td>\n",
       "      <td>2</td>\n",
       "      <td>2</td>\n",
       "      <td>4</td>\n",
       "      <td>5</td>\n",
       "      <td>3</td>\n",
       "      <td>1</td>\n",
       "      <td>6</td>\n",
       "      <td>5</td>\n",
       "      <td>25</td>\n",
       "      <td>14.7</td>\n",
       "    </tr>\n",
       "    <tr>\n",
       "      <th>4</th>\n",
       "      <td>1985</td>\n",
       "      <td>5</td>\n",
       "      <td>5</td>\n",
       "      <td>11/1/1984</td>\n",
       "      <td>21</td>\n",
       "      <td>258</td>\n",
       "      <td>21.706366</td>\n",
       "      <td>CHI</td>\n",
       "      <td>0</td>\n",
       "      <td>DEN</td>\n",
       "      <td>...</td>\n",
       "      <td>3</td>\n",
       "      <td>2</td>\n",
       "      <td>5</td>\n",
       "      <td>5</td>\n",
       "      <td>1</td>\n",
       "      <td>1</td>\n",
       "      <td>2</td>\n",
       "      <td>4</td>\n",
       "      <td>17</td>\n",
       "      <td>13.2</td>\n",
       "    </tr>\n",
       "  </tbody>\n",
       "</table>\n",
       "<p>5 rows × 33 columns</p>\n",
       "</div>"
      ],
      "text/plain": [
       "   EndYear  Rk  G        Date  Years  Days        Age   Tm  Home  Opp  ...  \\\n",
       "0     1985   1  1  10/26/1984     21   252  21.689938  CHI     1  WSB  ...   \n",
       "1     1985   2  2  10/27/1984     21   253  21.692676  CHI     0  MIL  ...   \n",
       "2     1985   3  3  10/29/1984     21   255  21.698152  CHI     1  MIL  ...   \n",
       "3     1985   4  4  10/30/1984     21   256  21.700890  CHI     0  KCK  ...   \n",
       "4     1985   5  5   11/1/1984     21   258  21.706366  CHI     0  DEN  ...   \n",
       "\n",
       "   ORB  DRB  TRB  AST  STL  BLK  TOV  PF  PTS  GmSc  \n",
       "0    1    5    6    7    2    4    5   2   16  12.5  \n",
       "1    3    2    5    5    2    1    3   4   21  19.4  \n",
       "2    2    2    4    5    6    2    3   4   37  32.9  \n",
       "3    2    2    4    5    3    1    6   5   25  14.7  \n",
       "4    3    2    5    5    1    1    2   4   17  13.2  \n",
       "\n",
       "[5 rows x 33 columns]"
      ]
     },
     "execution_count": 240,
     "metadata": {},
     "output_type": "execute_result"
    }
   ],
   "source": [
    "#Lets import a Michael Jordan Dataset with some data from 1984 to 2003\n",
    "df = pd.read_csv('Michael_Jordan_Data.csv')\n",
    "df.head()"
   ]
  },
  {
   "cell_type": "code",
   "execution_count": 241,
   "metadata": {},
   "outputs": [
    {
     "data": {
      "text/plain": [
       "(1072, 33)"
      ]
     },
     "execution_count": 241,
     "metadata": {},
     "output_type": "execute_result"
    }
   ],
   "source": [
    "#Check how many Row and Columns we got\n",
    "df.shape"
   ]
  },
  {
   "cell_type": "code",
   "execution_count": 242,
   "metadata": {},
   "outputs": [
    {
     "data": {
      "text/plain": [
       "30.12313432835821"
      ]
     },
     "execution_count": 242,
     "metadata": {},
     "output_type": "execute_result"
    }
   ],
   "source": [
    "#Assing our column to work with and take the mean:\n",
    "puntos = df['PTS']\n",
    "puntos_mean = puntos.mean()\n",
    "puntos_mean\n"
   ]
  },
  {
   "cell_type": "code",
   "execution_count": 243,
   "metadata": {},
   "outputs": [
    {
     "data": {
      "image/png": "[encoded data removed]",
      "text/plain": [
       "<Figure size 1152x432 with 1 Axes>"
      ]
     },
     "metadata": {
      "needs_background": "light"
     },
     "output_type": "display_data"
    }
   ],
   "source": [
    "#Lets plot a Historigram to see the distribution of data that the column points (\"PTS\") have:\n",
    "plt.figure(figsize=(16, 6))\n",
    "sns.histplot(data=df, x='PTS')\n",
    "#Add the mean line.\n",
    "plt.axvline(x=puntos_mean, color='red', label='Mean')\n",
    "plt.title('Histograma de puntos', fontsize=20)\n",
    "plt.xlabel('Puntos');"
   ]
  },
  {
   "cell_type": "markdown",
   "metadata": {},
   "source": [
    "### Lets test our Data to discover if 30 points its a true hypotesis:\n",
    "H 0 : µ = 30 (The mean is equal to 30)\n",
    "\n",
    "H A : µ ≠ 30 (The mean is not equal to 30)"
   ]
  },
  {
   "cell_type": "code",
   "execution_count": 244,
   "metadata": {},
   "outputs": [
    {
     "name": "stdout",
     "output_type": "stream",
     "text": [
      "t Statistic:  0.4134117064682372\n",
      "P Value:  0.6793877602270157\n",
      "We cant reject H0\n"
     ]
    }
   ],
   "source": [
    "#Import the libry and test the hypotesis:\n",
    "from scipy.stats import ttest_1samp\n",
    "x = df['PTS']\n",
    "alpha = 0.05\n",
    "tscore, pvalue = ttest_1samp(x, popmean=30)\n",
    "print(\"t Statistic: \", tscore)  \n",
    "print(\"P Value: \", pvalue)\n",
    "print('We cant reject H0') if pvalue > alpha else print('We can reject H0')\n"
   ]
  },
  {
   "cell_type": "markdown",
   "metadata": {},
   "source": [
    "### Because of the p-value of our test (0.067), which is greater than alpha = 0.05, we do not reject the null hypothesis of the test. We do not have enough evidence to say that the point average is 30. Because the probability of rejecting the null hypothesis and that it is correct is too high.\n",
    "\n",
    "### Debido a que el valor p de nuestra prueba (0.0.67), que es mayor que alfa = 0.05, no rechazamos la hipótesis nula de la prueba. No tenemos evidencia suficiente para decir que el promedio de puntos es distinto a 30. Porque la probabilidad de rechazar la hipotesis nula y que sea correcta es demasiado alta"
   ]
  },
  {
   "cell_type": "markdown",
   "metadata": {},
   "source": [
    "___\n",
    "### Exercise 2: Continue with the sports theme dataset and select two other attributes from the dataset. Calculate the p-values ​​and say if they reject the null hypothesis taking an alpha of 5%.\n",
    "### Ejercicio 2: Continúa con el conjunto de datos de tema deportivo que te guste y selecciona otros dos atributos del conjunto de datos. Calcula los p-valores y di si rechazan la hipótesis nula cogiendo un alfa de 5%.\n",
    "___"
   ]
  },
  {
   "cell_type": "markdown",
   "metadata": {},
   "source": [
    "\n",
    "### Lets try the same but testing a Sample with a fraction of the entire Dataset to discover if the sample show the same points mean.\n",
    "H 0 : µ = 30 (El promedio de puntos es igual a 30)\n",
    "\n",
    "H A : µ ≠ 30 (El promedio de puntos distinto a 30)"
   ]
  },
  {
   "cell_type": "code",
   "execution_count": 245,
   "metadata": {},
   "outputs": [
    {
     "data": {
      "text/plain": [
       "(268, 33)"
      ]
     },
     "execution_count": 245,
     "metadata": {},
     "output_type": "execute_result"
    }
   ],
   "source": [
    "#Lets Sample the Dataset with a simple random sample just taking a fraction of the entire Dataset.\n",
    "Random_sample = df.sample(frac=1/4, random_state=42)\n",
    "Random_sample.head()\n",
    "Random_sample.shape"
   ]
  },
  {
   "cell_type": "code",
   "execution_count": 246,
   "metadata": {},
   "outputs": [],
   "source": [
    "Ran_puntos = Random_sample['PTS']"
   ]
  },
  {
   "cell_type": "code",
   "execution_count": 247,
   "metadata": {},
   "outputs": [
    {
     "data": {
      "text/plain": [
       "29.5"
      ]
     },
     "execution_count": 247,
     "metadata": {},
     "output_type": "execute_result"
    }
   ],
   "source": [
    "#Calculate the mean:\n",
    "Random_mean= Random_sample['PTS'].mean()\n",
    "Random_mean"
   ]
  },
  {
   "cell_type": "code",
   "execution_count": 248,
   "metadata": {},
   "outputs": [
    {
     "data": {
      "text/plain": [
       "30"
      ]
     },
     "execution_count": 248,
     "metadata": {},
     "output_type": "execute_result"
    }
   ],
   "source": [
    "puntos_mean.astype(int)"
   ]
  },
  {
   "cell_type": "markdown",
   "metadata": {},
   "source": [
    "### Lets test our sample to discover if 30 points its a true hypotesis:\n",
    "H 0 : µ = 30 (The mean is equal to 30)\n",
    "\n",
    "H A : µ ≠ 30 (The mean is not equal to 30)"
   ]
  },
  {
   "cell_type": "code",
   "execution_count": 249,
   "metadata": {},
   "outputs": [
    {
     "name": "stdout",
     "output_type": "stream",
     "text": [
      "t Statistic:  -0.851494903034784\n",
      "P Value:  0.39525753680695563\n",
      "We cant reject H0\n"
     ]
    }
   ],
   "source": [
    "alpha = 0.05\n",
    "tscore, pvalue = ttest_1samp(Random_sample['PTS'], popmean=30)\n",
    "print('t Statistic: ', tscore)\n",
    "print('P Value: ', pvalue)\n",
    "print('We cant reject H0') if pvalue > alpha else print('We can reject H0')"
   ]
  },
  {
   "cell_type": "markdown",
   "metadata": {},
   "source": [
    "### Conlusion: Conclusion: Because the p-value of our test (0.395), which is greater than alpha = 0.05, we do not reject the null hypothesis of the test. Because the probability of rejecting the null hypothesis and that it is correct is too high.\n",
    "We were able to verify in the t-test that the sample extracted from the original dataset is well distributed, since there is not enough evidence to say that the mean of points is different from the mean of the total population, which is why the conclusion was reached that the extracted sample is trustworthy.\n",
    "\n",
    "Debido a que el valor p de nuestra prueba (0.395), que es mayor que alfa = 0.05, no rechazamos la hipótesis nula de la prueba, porque la probabilidad de rechazar la hipotesis nula y que sea correcta es demasiado alta. \n",
    "Pudimos comprobar en la prueba t que el sample extraido del dataset original está bien distribuido, ya que no hay evidencias suficientes para decir que la media de puntos es distinta a la media del total de la poblacion, por eso se llego a la conlusión de que la muestra extraida es de fiar.\n",
    "___\n",
    "\n"
   ]
  },
  {
   "cell_type": "markdown",
   "metadata": {},
   "source": [
    "### Some charts of the Random Sample points distribution:\n"
   ]
  },
  {
   "cell_type": "code",
   "execution_count": 250,
   "metadata": {},
   "outputs": [
    {
     "data": {
      "image/png": "[encoded data removed]",
      "text/plain": [
       "<Figure size 1152x432 with 1 Axes>"
      ]
     },
     "metadata": {
      "needs_background": "light"
     },
     "output_type": "display_data"
    }
   ],
   "source": [
    "plt.figure(figsize=(16, 6))\n",
    "sns.histplot(data=Random_sample, x='PTS')\n",
    "plt.axvline(x=Random_mean, color='red', label='Mean')\n",
    "plt.title('Score Historigram Random Sample',fontsize=20)\n",
    "plt.xlabel('Points');"
   ]
  },
  {
   "cell_type": "code",
   "execution_count": 251,
   "metadata": {},
   "outputs": [
    {
     "data": {
      "image/png": "[encoded data removed]",
      "text/plain": [
       "<Figure size 720x576 with 1 Axes>"
      ]
     },
     "metadata": {
      "needs_background": "light"
     },
     "output_type": "display_data"
    }
   ],
   "source": [
    "#Density Plot:\n",
    "plt.figure(figsize=(10,8))\n",
    "Random_sample['PTS'].plot.kde()\n",
    "plt.title(\"Density Plot\",  fontsize=20)\n",
    "plt.xlabel(\"Points\", fontsize=18)\n",
    "plt.ylabel(\"Density\", fontsize=16)\n",
    "plt.grid()\n",
    "plt.axvline(x=Random_mean, color='blue', label='Mean')\n",
    "plt.legend()\n",
    "plt.show()"
   ]
  },
  {
   "cell_type": "markdown",
   "metadata": {},
   "source": [
    "### Creating and concatening a new Dataframe to compare the results between our Original DataSet (Sample_a), and the Random Sample (Sample_b)"
   ]
  },
  {
   "cell_type": "code",
   "execution_count": 252,
   "metadata": {},
   "outputs": [
    {
     "data": {
      "text/html": [
       "<div>\n",
       "<style scoped>\n",
       "    .dataframe tbody tr th:only-of-type {\n",
       "        vertical-align: middle;\n",
       "    }\n",
       "\n",
       "    .dataframe tbody tr th {\n",
       "        vertical-align: top;\n",
       "    }\n",
       "\n",
       "    .dataframe thead th {\n",
       "        text-align: right;\n",
       "    }\n",
       "</style>\n",
       "<table border=\"1\" class=\"dataframe\">\n",
       "  <thead>\n",
       "    <tr style=\"text-align: right;\">\n",
       "      <th></th>\n",
       "      <th>Sample</th>\n",
       "      <th>Points</th>\n",
       "    </tr>\n",
       "  </thead>\n",
       "  <tbody>\n",
       "    <tr>\n",
       "      <th>0</th>\n",
       "      <td>Sample_a</td>\n",
       "      <td>16</td>\n",
       "    </tr>\n",
       "    <tr>\n",
       "      <th>1</th>\n",
       "      <td>Sample_a</td>\n",
       "      <td>21</td>\n",
       "    </tr>\n",
       "  </tbody>\n",
       "</table>\n",
       "</div>"
      ],
      "text/plain": [
       "     Sample  Points\n",
       "0  Sample_a      16\n",
       "1  Sample_a      21"
      ]
     },
     "execution_count": 252,
     "metadata": {},
     "output_type": "execute_result"
    }
   ],
   "source": [
    "#Dataframe A (Original DataSet)\n",
    "puntos_a= puntos\n",
    "puntos_b=  Ran_puntos\n",
    "data = {'Sample':'Sample_a', 'Points': puntos_a}\n",
    "df_sample_a = pd.DataFrame(data=data)\n",
    "df_sample_a.head(2)\n",
    "\n",
    "\n"
   ]
  },
  {
   "cell_type": "code",
   "execution_count": 253,
   "metadata": {},
   "outputs": [
    {
     "data": {
      "text/html": [
       "<div>\n",
       "<style scoped>\n",
       "    .dataframe tbody tr th:only-of-type {\n",
       "        vertical-align: middle;\n",
       "    }\n",
       "\n",
       "    .dataframe tbody tr th {\n",
       "        vertical-align: top;\n",
       "    }\n",
       "\n",
       "    .dataframe thead th {\n",
       "        text-align: right;\n",
       "    }\n",
       "</style>\n",
       "<table border=\"1\" class=\"dataframe\">\n",
       "  <thead>\n",
       "    <tr style=\"text-align: right;\">\n",
       "      <th></th>\n",
       "      <th>Sample</th>\n",
       "      <th>Points</th>\n",
       "    </tr>\n",
       "  </thead>\n",
       "  <tbody>\n",
       "    <tr>\n",
       "      <th>992</th>\n",
       "      <td>Sample_b</td>\n",
       "      <td>21</td>\n",
       "    </tr>\n",
       "    <tr>\n",
       "      <th>746</th>\n",
       "      <td>Sample_b</td>\n",
       "      <td>33</td>\n",
       "    </tr>\n",
       "  </tbody>\n",
       "</table>\n",
       "</div>"
      ],
      "text/plain": [
       "       Sample  Points\n",
       "992  Sample_b      21\n",
       "746  Sample_b      33"
      ]
     },
     "execution_count": 253,
     "metadata": {},
     "output_type": "execute_result"
    }
   ],
   "source": [
    "#Dataframe B (Random Sample DataSet)\n",
    "puntos_b=  Ran_puntos\n",
    "data = {'Sample':'Sample_b', 'Points': puntos_b}\n",
    "df_sample_b = pd.DataFrame(data=data)\n",
    "df_sample_b.head(2)\n"
   ]
  },
  {
   "cell_type": "code",
   "execution_count": 254,
   "metadata": {},
   "outputs": [
    {
     "data": {
      "text/html": [
       "<div>\n",
       "<style scoped>\n",
       "    .dataframe tbody tr th:only-of-type {\n",
       "        vertical-align: middle;\n",
       "    }\n",
       "\n",
       "    .dataframe tbody tr th {\n",
       "        vertical-align: top;\n",
       "    }\n",
       "\n",
       "    .dataframe thead th {\n",
       "        text-align: right;\n",
       "    }\n",
       "</style>\n",
       "<table border=\"1\" class=\"dataframe\">\n",
       "  <thead>\n",
       "    <tr style=\"text-align: right;\">\n",
       "      <th></th>\n",
       "      <th>Sample</th>\n",
       "      <th>Points</th>\n",
       "    </tr>\n",
       "  </thead>\n",
       "  <tbody>\n",
       "    <tr>\n",
       "      <th>0</th>\n",
       "      <td>Sample_a</td>\n",
       "      <td>16</td>\n",
       "    </tr>\n",
       "    <tr>\n",
       "      <th>1</th>\n",
       "      <td>Sample_a</td>\n",
       "      <td>21</td>\n",
       "    </tr>\n",
       "    <tr>\n",
       "      <th>2</th>\n",
       "      <td>Sample_a</td>\n",
       "      <td>37</td>\n",
       "    </tr>\n",
       "    <tr>\n",
       "      <th>3</th>\n",
       "      <td>Sample_a</td>\n",
       "      <td>25</td>\n",
       "    </tr>\n",
       "    <tr>\n",
       "      <th>4</th>\n",
       "      <td>Sample_a</td>\n",
       "      <td>17</td>\n",
       "    </tr>\n",
       "    <tr>\n",
       "      <th>...</th>\n",
       "      <td>...</td>\n",
       "      <td>...</td>\n",
       "    </tr>\n",
       "    <tr>\n",
       "      <th>602</th>\n",
       "      <td>Sample_b</td>\n",
       "      <td>24</td>\n",
       "    </tr>\n",
       "    <tr>\n",
       "      <th>450</th>\n",
       "      <td>Sample_b</td>\n",
       "      <td>33</td>\n",
       "    </tr>\n",
       "    <tr>\n",
       "      <th>182</th>\n",
       "      <td>Sample_b</td>\n",
       "      <td>36</td>\n",
       "    </tr>\n",
       "    <tr>\n",
       "      <th>616</th>\n",
       "      <td>Sample_b</td>\n",
       "      <td>39</td>\n",
       "    </tr>\n",
       "    <tr>\n",
       "      <th>352</th>\n",
       "      <td>Sample_b</td>\n",
       "      <td>40</td>\n",
       "    </tr>\n",
       "  </tbody>\n",
       "</table>\n",
       "<p>1340 rows × 2 columns</p>\n",
       "</div>"
      ],
      "text/plain": [
       "       Sample  Points\n",
       "0    Sample_a      16\n",
       "1    Sample_a      21\n",
       "2    Sample_a      37\n",
       "3    Sample_a      25\n",
       "4    Sample_a      17\n",
       "..        ...     ...\n",
       "602  Sample_b      24\n",
       "450  Sample_b      33\n",
       "182  Sample_b      36\n",
       "616  Sample_b      39\n",
       "352  Sample_b      40\n",
       "\n",
       "[1340 rows x 2 columns]"
      ]
     },
     "execution_count": 254,
     "metadata": {},
     "output_type": "execute_result"
    }
   ],
   "source": [
    "#Lets concatenate both datasets:\n",
    "df_concat = pd.concat([df_sample_a, df_sample_b])\n",
    "df_concat"
   ]
  },
  {
   "cell_type": "code",
   "execution_count": 255,
   "metadata": {},
   "outputs": [
    {
     "data": {
      "image/png": "[encoded data removed]",
      "text/plain": [
       "<Figure size 640x480 with 1 Axes>"
      ]
     },
     "metadata": {},
     "output_type": "display_data"
    },
    {
     "data": {
      "text/plain": [
       "<ggplot: (309809225)>"
      ]
     },
     "execution_count": 255,
     "metadata": {},
     "output_type": "execute_result"
    }
   ],
   "source": [
    "#Plot a density chart to compare both DataSets:\n",
    "import plotnine as p9\n",
    "(p9.ggplot(df_concat)+ p9.aes(x='Points', fill='Sample') + p9.geom_density(alpha=0.5))\n"
   ]
  },
  {
   "cell_type": "markdown",
   "metadata": {},
   "source": [
    "### We can see also a normal distribution of our data \"Points\" wich indicates that our sample have a good  and inclusive distribution of the data.\n",
    "___"
   ]
  },
  {
   "cell_type": "markdown",
   "metadata": {},
   "source": []
  }
 ],
 "metadata": {
  "interpreter": {
   "hash": "aee8b7b246df8f9039afb4144a1f6fd8d2ca17a180786b69acc140d282b71a49"
  },
  "kernelspec": {
   "display_name": "Python 3.9.5 64-bit",
   "language": "python",
   "name": "python3"
  },
  "language_info": {
   "codemirror_mode": {
    "name": "ipython",
    "version": 3
   },
   "file_extension": ".py",
   "mimetype": "text/x-python",
   "name": "python",
   "nbconvert_exporter": "python",
   "pygments_lexer": "ipython3",
   "version": "3.9.5"
  },
  "orig_nbformat": 4
 },
 "nbformat": 4,
 "nbformat_minor": 2
}
